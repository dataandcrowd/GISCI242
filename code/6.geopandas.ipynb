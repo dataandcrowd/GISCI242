{
 "cells": [
  {
   "cell_type": "markdown",
   "metadata": {},
   "source": [
    "## Exploratory Data Analysis"
   ]
  },
  {
   "cell_type": "code",
   "execution_count": null,
   "metadata": {},
   "outputs": [],
   "source": [
    "# Import pandas and matplotlib\n",
    "import pandas as pd\n",
    "import matplotlib.pyplot as plt\n",
    "import geopandas as gpd\n",
    "\n",
    "pd.options.display.float_format = '{:.2f}'.format"
   ]
  },
  {
   "cell_type": "code",
   "execution_count": null,
   "metadata": {},
   "outputs": [],
   "source": [
    "# Read the restaurants csv file\n",
    "restaurants = pd.read_csv(\"../files/paris_restaurants.csv\")\n",
    "print(restaurants)"
   ]
  },
  {
   "cell_type": "code",
   "execution_count": null,
   "metadata": {},
   "outputs": [],
   "source": [
    "# Make a plot of all points\n",
    "fig, ax = plt.subplots()\n",
    "ax.plot(restaurants.x, restaurants.y, 'o')\n",
    "plt.show()"
   ]
  },
  {
   "cell_type": "markdown",
   "metadata": {},
   "source": [
    "```\n",
    "import matplotlib.pyplot as plt\n",
    "\n",
    "# Make a plot of all points\n",
    "fig, ax = plt.subplots()\n",
    "\n",
    "# Plot the points with blue color and larger markers\n",
    "ax.plot(restaurants.x, restaurants.y, 'o', color='blue', markersize=8, label='Restaurants')\n",
    "\n",
    "# Add grid lines\n",
    "ax.grid(True)\n",
    "\n",
    "# Add labels to the axes\n",
    "ax.set_xlabel('X axis label')\n",
    "ax.set_ylabel('Y axis label')\n",
    "\n",
    "# Add a title to the plot\n",
    "ax.set_title('Plot of Restaurant Locations')\n",
    "\n",
    "# Add a legend\n",
    "ax.legend()\n",
    "\n",
    "# Show the plot\n",
    "plt.show()\n",
    "```"
   ]
  },
  {
   "cell_type": "markdown",
   "metadata": {},
   "source": [
    "### Add a background map"
   ]
  },
  {
   "cell_type": "markdown",
   "metadata": {},
   "source": [
    "We can visualise the locations of restaurants on a map using the matplotlib and contextily libraries in Python. \n",
    "It plots the coordinates of restaurants and overlays them with a basemap for geographical context."
   ]
  },
  {
   "cell_type": "code",
   "execution_count": null,
   "metadata": {},
   "outputs": [],
   "source": [
    "# Import contextily\n",
    "import contextily\n",
    " \n",
    "# A figure of all restaurants with background\n",
    "fig, ax = plt.subplots()\n",
    "ax.plot(restaurants.x, restaurants.y, 'o', markersize=1)\n",
    "contextily.add_basemap(ax)\n",
    "#contextily.add_basemap(ax, source=contextily.providers.CartoDB.Positron)\n",
    "plt.show()"
   ]
  },
  {
   "cell_type": "markdown",
   "metadata": {},
   "source": [
    "### Playing with `Geopandas`"
   ]
  },
  {
   "cell_type": "code",
   "execution_count": null,
   "metadata": {},
   "outputs": [],
   "source": [
    "# Import GeoPandas\n",
    "import geopandas as gpd\n",
    " \n",
    "# Read the Paris districts dataset\n",
    "arrondissements = gpd.read_file('../files/arrondissements.geojson')\n",
    "\n",
    "# Inspect the first rows\n",
    "print(arrondissements.head())\n",
    " \n",
    "# Make a quick visualization of the districts\n",
    "arrondissements.plot()\n",
    "plt.show()"
   ]
  },
  {
   "cell_type": "code",
   "execution_count": null,
   "metadata": {},
   "outputs": [],
   "source": [
    "# now sorted\n",
    "arrondissements = arrondissements.sort_values(by=['c_ar'])\n",
    "print(arrondissements)"
   ]
  },
  {
   "cell_type": "markdown",
   "metadata": {},
   "source": [
    "According to the crs, we see that the EPSG Code is 4326.\n",
    "\n",
    "This means that the XY coordinates are based on longitude and latitude"
   ]
  },
  {
   "cell_type": "code",
   "execution_count": null,
   "metadata": {},
   "outputs": [],
   "source": [
    "print(arrondissements.crs)"
   ]
  },
  {
   "cell_type": "markdown",
   "metadata": {},
   "source": [
    "To create a projected digial map, we need to covert it to the French (Paris) Coordinate system. The EPSG code is 2154."
   ]
  },
  {
   "cell_type": "code",
   "execution_count": null,
   "metadata": {},
   "outputs": [],
   "source": [
    "arrondissements = arrondissements.to_crs(epsg=2154)\n",
    "print(arrondissements)"
   ]
  },
  {
   "cell_type": "code",
   "execution_count": null,
   "metadata": {},
   "outputs": [],
   "source": [
    "# Make a quick visualization of the districts\n",
    "arrondissements.plot()\n",
    "\n",
    "for idx, row in arrondissements.iterrows():\n",
    "    # Get the centroid of the district to place the label\n",
    "    centroid = row.geometry.centroid\n",
    "    plt.text(centroid.x, centroid.y, str(row['c_ar']), color='yellow', weight='bold', fontsize=9, ha='center')\n",
    "\n",
    "plt.show()\n"
   ]
  },
  {
   "cell_type": "markdown",
   "metadata": {},
   "source": [
    "As the population data is missing, we are going to download a population data from a spreadsheet and join it to the shapefile "
   ]
  },
  {
   "cell_type": "code",
   "execution_count": null,
   "metadata": {},
   "outputs": [],
   "source": [
    "districts_pop = pd.read_csv('../files/paris_arrondissements_population.csv')"
   ]
  },
  {
   "cell_type": "code",
   "execution_count": null,
   "metadata": {},
   "outputs": [],
   "source": [
    "districts_pop"
   ]
  },
  {
   "cell_type": "markdown",
   "metadata": {},
   "source": [
    "The shapefile contains the column `c_ar` as an index for the arrondissements, and `no` for the population. \n",
    "\n",
    "Printing the columns of each dfs and their dtypes, we can identify that the data type is identical"
   ]
  },
  {
   "cell_type": "code",
   "execution_count": null,
   "metadata": {},
   "outputs": [],
   "source": [
    "print(arrondissements.columns)\n",
    "print(districts_pop.columns)"
   ]
  },
  {
   "cell_type": "code",
   "execution_count": null,
   "metadata": {},
   "outputs": [],
   "source": [
    "print(arrondissements['c_ar'].dtypes)\n",
    "print(districts_pop['no'].dtypes)"
   ]
  },
  {
   "cell_type": "code",
   "execution_count": null,
   "metadata": {},
   "outputs": [],
   "source": [
    "arrondissements_pop = pd.merge(arrondissements,districts_pop, how='left',left_on=['c_ar'],right_on=['no'])"
   ]
  },
  {
   "cell_type": "code",
   "execution_count": null,
   "metadata": {},
   "outputs": [],
   "source": [
    "arrondissements_pop.head()"
   ]
  },
  {
   "cell_type": "markdown",
   "metadata": {},
   "source": [
    "### Explore the districts of Paris"
   ]
  },
  {
   "cell_type": "code",
   "execution_count": null,
   "metadata": {},
   "outputs": [],
   "source": [
    "# Check what kind of object districts is\n",
    "print(type(arrondissements_pop))\n",
    " \n",
    "# Check the type of the geometry attribute\n",
    "print(type(arrondissements_pop.geometry))\n",
    " \n",
    "# Inspect the first rows of the geometry\n",
    "print(arrondissements_pop.geometry.head())\n",
    " \n"
   ]
  },
  {
   "cell_type": "code",
   "execution_count": null,
   "metadata": {},
   "outputs": [],
   "source": [
    "# Inspect the area of the districts in sq/km2\n",
    "print(arrondissements_pop.geometry.area/1000000)"
   ]
  },
  {
   "cell_type": "markdown",
   "metadata": {},
   "source": [
    "### The Magic: transforming csv to Geodataframe"
   ]
  },
  {
   "cell_type": "code",
   "execution_count": null,
   "metadata": {},
   "outputs": [],
   "source": [
    "# Convert it to a GeoDataFrame\n",
    "restaurants_shp = gpd.GeoDataFrame(restaurants, geometry=gpd.points_from_xy(restaurants.x, restaurants.y))\n",
    "\n",
    "# create crs\n",
    "restaurants_shp = restaurants_shp.set_crs('epsg:3857')\n",
    "\n",
    "# Inspect the first rows of the restaurants GeoDataFrame\n",
    "print(restaurants_shp.head())\n",
    " \n",
    "# Make a plot of the restaurants\n",
    "ax = restaurants_shp.plot(markersize=1)\n",
    "\n",
    "\n",
    "contextily.add_basemap(ax)\n",
    "plt.show()"
   ]
  },
  {
   "cell_type": "code",
   "execution_count": null,
   "metadata": {},
   "outputs": [],
   "source": [
    "restaurants_paris = restaurants_shp.to_crs(epsg=2154)"
   ]
  },
  {
   "cell_type": "markdown",
   "metadata": {},
   "source": [
    "## Measuring and Visualising Population Density"
   ]
  },
  {
   "cell_type": "code",
   "execution_count": null,
   "metadata": {},
   "outputs": [],
   "source": [
    "# Add a population density column\n",
    "arrondissements_pop['population_density'] = arrondissements_pop.Population / arrondissements_pop.area * 10**6\n",
    " \n",
    "# Make a plot of the districts colored by the population density\n",
    "arrondissements_pop.plot(column='population_density', legend=True)\n",
    "plt.show()"
   ]
  },
  {
   "cell_type": "markdown",
   "metadata": {},
   "source": [
    "Name of the districts in Paris"
   ]
  },
  {
   "cell_type": "code",
   "execution_count": null,
   "metadata": {},
   "outputs": [],
   "source": [
    "arrondissements_pop.plot(column='population_density', legend=True)\n",
    "\n",
    "for idx, row in arrondissements_pop.iterrows():\n",
    "    # Get the centroid of the district to place the label\n",
    "    centroid = row.geometry.centroid\n",
    "    plt.text(centroid.x, centroid.y, str(row['c_ar']), color = 'white', weight='bold',  fontsize=8, ha='center')\n",
    "\n",
    "plt.show()"
   ]
  },
  {
   "cell_type": "markdown",
   "metadata": {},
   "source": [
    "## Group by"
   ]
  },
  {
   "cell_type": "code",
   "execution_count": null,
   "metadata": {},
   "outputs": [],
   "source": [
    "# Calculate the number of restaurants of each type\n",
    "type_counts = restaurants_shp.groupby('type').size()\n",
    " \n",
    "# Print the result\n",
    "print(type_counts)"
   ]
  },
  {
   "cell_type": "markdown",
   "metadata": {},
   "source": [
    "### Plotting multiple layers"
   ]
  },
  {
   "cell_type": "markdown",
   "metadata": {},
   "source": [
    "Another typical pandas functionality is filtering a dataframe: taking a subset of the rows based on a condition (which generates a boolean mask).\n",
    "\n",
    "In this exercise, we will take the subset of all Asian restaurants, and then make a multi-layered plot. In such a plot, we combine the visualization of several GeoDataFrames on a single figure. To add one layer, we can use the ax keyword of the plot() method of a GeoDataFrame to pass it a matplotlib axes object."
   ]
  },
  {
   "cell_type": "code",
   "execution_count": null,
   "metadata": {},
   "outputs": [],
   "source": [
    "# Take a subset of the Asian restaurants\n",
    "asian_restaurants = restaurants_shp[restaurants_shp['type'] == 'Asian restaurant']\n",
    "asian_restaurants.shape"
   ]
  },
  {
   "cell_type": "code",
   "execution_count": null,
   "metadata": {},
   "outputs": [],
   "source": [
    "# Create a multi-layered plot with specified size\n",
    "fig, ax = plt.subplots(figsize=(10, 10))  # Adjusted size for clarity\n",
    "\n",
    "# Plot all restaurants in grey\n",
    "#restaurants_shp.plot(color='grey', ax=ax)\n",
    "arrondissements_pop.plot(ax=ax)\n",
    "\n",
    "# Plot Asian restaurants in red over the existing plot\n",
    "asian_restaurants.plot(color='red', ax=ax)\n",
    "#contextily.add_basemap(ax)\n",
    "\n",
    "# Display the plot\n",
    "plt.show()"
   ]
  },
  {
   "cell_type": "code",
   "execution_count": null,
   "metadata": {},
   "outputs": [],
   "source": [
    "#points_in_polygon = gpd.sjoin(asian_restaurants, arrondissements, how=\"inner\", predicate='intersects')"
   ]
  }
 ],
 "metadata": {
  "kernelspec": {
   "display_name": "Python 3",
   "language": "python",
   "name": "python3"
  },
  "language_info": {
   "codemirror_mode": {
    "name": "ipython",
    "version": 3
   },
   "file_extension": ".py",
   "mimetype": "text/x-python",
   "name": "python",
   "nbconvert_exporter": "python",
   "pygments_lexer": "ipython3",
   "version": "3.12.2"
  }
 },
 "nbformat": 4,
 "nbformat_minor": 2
}
